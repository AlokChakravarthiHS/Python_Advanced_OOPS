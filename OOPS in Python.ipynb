{
 "cells": [
  {
   "cell_type": "markdown",
   "id": "f0d4aa51",
   "metadata": {},
   "source": [
    "# OOPS in Python"
   ]
  },
  {
   "cell_type": "code",
   "execution_count": 2,
   "id": "cc8f1472",
   "metadata": {},
   "outputs": [],
   "source": [
    "class Bike:\n",
    "    pass     # this is creation of empty class with no argument /attributes\n",
    "\n",
    "#THIS IS WASTE OF MEMORY AND NOT A RITE WAY TO CREATE A CLASS \n",
    "# CLASS SHOULD BE CREATED IN SUCH A WAY THAT IT CAN BE REUSED IN FUTURE ALSO"
   ]
  },
  {
   "cell_type": "code",
   "execution_count": 10,
   "id": "16e63047",
   "metadata": {},
   "outputs": [],
   "source": [
    "'''\n",
    "If no attributes is defined while creating the class any number of attributes can be created by developers to over \n",
    "come this We use functions \n",
    "\n",
    "'''\n",
    "class Car:\n",
    "    def __init__(self,window,seat,enginetype):   #__init__ is infuilt fn in class it acts like constructor\n",
    "        self.windows=window                      # we use this to initialize the properties to the class \n",
    "        self.seats=seat\n",
    "        self.enginetypes=enginetype\n",
    "    def self_driving(self):                      # creating a meathod self_driving by doing this it is easy to inherit\n",
    "        return 'The car is of {}'.format(self.enginetypes)\n",
    "    "
   ]
  },
  {
   "cell_type": "code",
   "execution_count": 28,
   "id": "f0bd7442",
   "metadata": {},
   "outputs": [
    {
     "data": {
      "text/plain": [
       "2"
      ]
     },
     "execution_count": 28,
     "metadata": {},
     "output_type": "execute_result"
    }
   ],
   "source": [
    "car1=Car(2,3,'petrol')\n",
    "car1.windows\n",
    "#dir(Car)"
   ]
  },
  {
   "cell_type": "code",
   "execution_count": 12,
   "id": "04e805fb",
   "metadata": {},
   "outputs": [
    {
     "data": {
      "text/plain": [
       "'petrol'"
      ]
     },
     "execution_count": 12,
     "metadata": {},
     "output_type": "execute_result"
    }
   ],
   "source": [
    "car1.enginetypes # creating constructor of the class and assigning/giving values"
   ]
  },
  {
   "cell_type": "code",
   "execution_count": 14,
   "id": "94e7067b",
   "metadata": {},
   "outputs": [
    {
     "data": {
      "text/plain": [
       "'The car is of diesel'"
      ]
     },
     "execution_count": 14,
     "metadata": {},
     "output_type": "execute_result"
    }
   ],
   "source": [
    "car2=Car(4,5,'diesel')\n",
    "car2.self_driving()  # calling the method"
   ]
  },
  {
   "cell_type": "markdown",
   "id": "8e885381",
   "metadata": {},
   "source": [
    "# Exception Handling in Python\n",
    "\n",
    "We use try and except block\n",
    "we use try: block is used for writing the code which has error or exception\n",
    "We use except: block to catch or give message of what problem has occured and show the user\n",
    "\n",
    "the parent of all the class in exception is \"Exception\" and use alias to call this \n",
    "This parent should be written in the end of the excpet blow after all the except blok is done or catched by child class"
   ]
  },
  {
   "cell_type": "code",
   "execution_count": 27,
   "id": "857a54da",
   "metadata": {},
   "outputs": [
    {
     "name": "stdout",
     "output_type": "stream",
     "text": [
      "enter the first number12\n",
      "enter the second number4\n",
      "3.0\n",
      "48\n",
      "4\n",
      "else block executed\n",
      "Always executes irrespective of error or condition\n"
     ]
    }
   ],
   "source": [
    "try:\n",
    "# In try block you writ the code which gives error \n",
    "    \n",
    "    a=int(input(\"enter the first number\"))\n",
    "    b=int(input(\"enter the second number\"))\n",
    "    c=a/b\n",
    "    d=a*b\n",
    "    e=a=b\n",
    "\n",
    "# here in except block we catch the exception whichh is happened in try block    \n",
    "except NameError :\n",
    "    print('please give proper input with similar data type')\n",
    "except ZeroDivisionError:\n",
    "    print('please print b value greaater than 0')\n",
    "except Exception as ex:\n",
    "    print(ex)\n",
    "    \n",
    "#--- try else block\n",
    "# this gets executed only if there is no error/execption in the try block without going to except block \n",
    "else:\n",
    "    print(c)\n",
    "    print(d)\n",
    "    print(e)\n",
    "    print('else block executed')\n",
    "    \n",
    "#--- try else finally \n",
    "# this gets executed the no of times the code is executed\n",
    "# this gets executed irrespective of any error or exception basically it is used to close database \n",
    "finally:\n",
    "    print('Always executes irrespective of error or condition')"
   ]
  },
  {
   "cell_type": "markdown",
   "id": "c36977ff",
   "metadata": {},
   "source": [
    "# Custom Exception\n"
   ]
  },
  {
   "cell_type": "code",
   "execution_count": 94,
   "id": "272781bb",
   "metadata": {},
   "outputs": [
    {
     "name": "stdout",
     "output_type": "stream",
     "text": [
      "Please enter you dob1947\n",
      "76\n",
      "You are not eligible\n"
     ]
    }
   ],
   "source": [
    "class Error(Exception):   #it is Error class inheriting Excepton class [This Error class is a generic Class]\n",
    "    pass                   #this is custom base class handling exception ad inheriting everywhere\n",
    "\n",
    "class dobException(Error): # it is dobException class inheriting Error class and used for custom exception \n",
    "    pass                     #to give out the custom message to the user\n",
    "\n",
    "class customErrorMessage(Error):    #--------- just an example of custome exception class\n",
    "    pass\n",
    "    \n",
    "try:\n",
    "    year=int(input('Please enter you dob'))\n",
    "    age=2023-year\n",
    "    print(age)\n",
    "    \n",
    "    if age>20 and age<=30:                #------- condition to be checked\n",
    "        print('You are eligible please prepare')\n",
    "        \n",
    "    else:\n",
    "        raise dobException                #------raise should be written in else block\n",
    "        \n",
    "        \n",
    "except dobException:\n",
    "    print('You are not eligible as the age is restricted to 30 years')\n",
    "\n"
   ]
  },
  {
   "cell_type": "markdown",
   "id": "0392bbcd",
   "metadata": {},
   "source": [
    "# Oops - Inheritance in python\n"
   ]
  },
  {
   "cell_type": "code",
   "execution_count": 1,
   "id": "4e00f692",
   "metadata": {},
   "outputs": [],
   "source": [
    "class CarIn:\n",
    "    def __init__(self,window,seat,enginetype):   #__init__ is infuilt fn in class it acts like constructor\n",
    "        self.windows=window                      # we use this to initialize the properties to the class \n",
    "        self.seats=seat\n",
    "        self.enginetypes=enginetype\n",
    "    def self_driving(self):                      # creating a meathod self_driving by doing this it is easy to inherit\n",
    "        print('person drives the car')"
   ]
  },
  {
   "cell_type": "code",
   "execution_count": 2,
   "id": "2e51dee8",
   "metadata": {},
   "outputs": [],
   "source": [
    "car2=CarIn(4,4,'petrol')"
   ]
  },
  {
   "cell_type": "code",
   "execution_count": 21,
   "id": "9ef7ed8e",
   "metadata": {},
   "outputs": [
    {
     "data": {
      "text/plain": [
       "['__class__',\n",
       " '__delattr__',\n",
       " '__dict__',\n",
       " '__dir__',\n",
       " '__doc__',\n",
       " '__eq__',\n",
       " '__format__',\n",
       " '__ge__',\n",
       " '__getattribute__',\n",
       " '__gt__',\n",
       " '__hash__',\n",
       " '__init__',\n",
       " '__init_subclass__',\n",
       " '__le__',\n",
       " '__lt__',\n",
       " '__module__',\n",
       " '__ne__',\n",
       " '__new__',\n",
       " '__reduce__',\n",
       " '__reduce_ex__',\n",
       " '__repr__',\n",
       " '__setattr__',\n",
       " '__sizeof__',\n",
       " '__str__',\n",
       " '__subclasshook__',\n",
       " '__weakref__',\n",
       " 'enginetypes',\n",
       " 'seats',\n",
       " 'self_driving',\n",
       " 'windows']"
      ]
     },
     "execution_count": 21,
     "metadata": {},
     "output_type": "execute_result"
    }
   ],
   "source": [
    "dir(car2)"
   ]
  },
  {
   "cell_type": "code",
   "execution_count": 6,
   "id": "a63ba358",
   "metadata": {},
   "outputs": [
    {
     "data": {
      "text/plain": [
       "'petrol'"
      ]
     },
     "execution_count": 6,
     "metadata": {},
     "output_type": "execute_result"
    }
   ],
   "source": [
    "car2.enginetypes"
   ]
  },
  {
   "cell_type": "code",
   "execution_count": null,
   "id": "05d364c0",
   "metadata": {},
   "outputs": [],
   "source": [
    "# Inheriting the parent class 'CarIn' to child class 'Audi'"
   ]
  },
  {
   "cell_type": "code",
   "execution_count": 23,
   "id": "22de71cd",
   "metadata": {},
   "outputs": [],
   "source": [
    "class Audi(CarIn):\n",
    "    def __init__(self,window,seat,enginetype,enabledai):    #This is the overall features of AudiQ7 car\n",
    "        self.enabledais=enabledai             #--- you are defining the new feature of Q7 not present in Old version/parent\n",
    "        super().__init__(window,seat,enginetype)         #---inheriting the features in parent class super().__init__ is used\n",
    "    def driving_type(self):\n",
    "        print(\"Enjoy the Automatic drive\")"
   ]
  },
  {
   "cell_type": "code",
   "execution_count": 24,
   "id": "28d48bac",
   "metadata": {},
   "outputs": [],
   "source": [
    "audiQ7=Audi(5,5,'diesel',True)"
   ]
  },
  {
   "cell_type": "code",
   "execution_count": 25,
   "id": "cb6e1792",
   "metadata": {},
   "outputs": [
    {
     "data": {
      "text/plain": [
       "True"
      ]
     },
     "execution_count": 25,
     "metadata": {},
     "output_type": "execute_result"
    }
   ],
   "source": [
    "audiQ7.enabledais\n"
   ]
  },
  {
   "cell_type": "code",
   "execution_count": 26,
   "id": "5547da58",
   "metadata": {},
   "outputs": [
    {
     "data": {
      "text/plain": [
       "['__class__',\n",
       " '__delattr__',\n",
       " '__dict__',\n",
       " '__dir__',\n",
       " '__doc__',\n",
       " '__eq__',\n",
       " '__format__',\n",
       " '__ge__',\n",
       " '__getattribute__',\n",
       " '__gt__',\n",
       " '__hash__',\n",
       " '__init__',\n",
       " '__init_subclass__',\n",
       " '__le__',\n",
       " '__lt__',\n",
       " '__module__',\n",
       " '__ne__',\n",
       " '__new__',\n",
       " '__reduce__',\n",
       " '__reduce_ex__',\n",
       " '__repr__',\n",
       " '__setattr__',\n",
       " '__sizeof__',\n",
       " '__str__',\n",
       " '__subclasshook__',\n",
       " '__weakref__',\n",
       " 'driving_type',\n",
       " 'enabledais',\n",
       " 'enginetypes',\n",
       " 'seats',\n",
       " 'self_driving',\n",
       " 'windows']"
      ]
     },
     "execution_count": 26,
     "metadata": {},
     "output_type": "execute_result"
    }
   ],
   "source": [
    "dir(audiQ7)"
   ]
  },
  {
   "cell_type": "markdown",
   "id": "eb8eb626",
   "metadata": {},
   "source": [
    "# Access Modifiers(public,protected,private)\n",
    "\n",
    "In python it can be overidden "
   ]
  },
  {
   "cell_type": "code",
   "execution_count": 53,
   "id": "d5bbca9f",
   "metadata": {},
   "outputs": [],
   "source": [
    "#public\n",
    "'''\n",
    "Can be accessed anywhere and overidden anywhere\n",
    "'''\n",
    "class Eicher:\n",
    "    def __init__(self,window,seat,enginetype):   \n",
    "        self.windows=window                      \n",
    "        self.seats=seat\n",
    "        self.enginetypes=enginetype"
   ]
  },
  {
   "cell_type": "code",
   "execution_count": 27,
   "id": "960ea7a3",
   "metadata": {},
   "outputs": [],
   "source": [
    "#protected\n",
    "'''\n",
    "Can be accessed anywhere and overidden only in inheritted class\n",
    "'''\n",
    "class EicherTruck:\n",
    "    def __init__(self,window,seat,enginetype):   \n",
    "        self._windows=window                      \n",
    "        self._seats=seat\n",
    "        self._enginetypes=enginetype"
   ]
  },
  {
   "cell_type": "code",
   "execution_count": 28,
   "id": "5155e291",
   "metadata": {},
   "outputs": [],
   "source": [
    "class EicherTruckChild(EicherTruck):\n",
    "    def __init__(self,window,seat,enginetype,horsepower):   \n",
    "        self.horsepower=horsepower                     \n",
    "        super().__init__(window,seat,enginetype)"
   ]
  },
  {
   "cell_type": "code",
   "execution_count": 32,
   "id": "ddd29593",
   "metadata": {},
   "outputs": [],
   "source": [
    "childtruck=EicherTruckChild(4,5,'perti',5000)"
   ]
  },
  {
   "cell_type": "code",
   "execution_count": 33,
   "id": "e581ac03",
   "metadata": {},
   "outputs": [
    {
     "data": {
      "text/plain": [
       "['__class__',\n",
       " '__delattr__',\n",
       " '__dict__',\n",
       " '__dir__',\n",
       " '__doc__',\n",
       " '__eq__',\n",
       " '__format__',\n",
       " '__ge__',\n",
       " '__getattribute__',\n",
       " '__gt__',\n",
       " '__hash__',\n",
       " '__init__',\n",
       " '__init_subclass__',\n",
       " '__le__',\n",
       " '__lt__',\n",
       " '__module__',\n",
       " '__ne__',\n",
       " '__new__',\n",
       " '__reduce__',\n",
       " '__reduce_ex__',\n",
       " '__repr__',\n",
       " '__setattr__',\n",
       " '__sizeof__',\n",
       " '__str__',\n",
       " '__subclasshook__',\n",
       " '__weakref__',\n",
       " '_enginetypes',\n",
       " '_seats',\n",
       " '_windows',\n",
       " 'horsepower']"
      ]
     },
     "execution_count": 33,
     "metadata": {},
     "output_type": "execute_result"
    }
   ],
   "source": [
    "dir(childtruck)"
   ]
  },
  {
   "cell_type": "code",
   "execution_count": 34,
   "id": "0284827b",
   "metadata": {},
   "outputs": [],
   "source": [
    "childtruck.windows=5 # overiding protected"
   ]
  },
  {
   "cell_type": "code",
   "execution_count": 35,
   "id": "f3015219",
   "metadata": {},
   "outputs": [
    {
     "data": {
      "text/plain": [
       "5"
      ]
     },
     "execution_count": 35,
     "metadata": {},
     "output_type": "execute_result"
    }
   ],
   "source": [
    "childtruck.windows"
   ]
  },
  {
   "cell_type": "code",
   "execution_count": 36,
   "id": "4468f318",
   "metadata": {},
   "outputs": [],
   "source": [
    "#private\n",
    "'''\n",
    "Can be accessed anywhere and overidden only in this class\n",
    "'''\n",
    "class EicherPrivate:\n",
    "    def __init__(self,window,seat,enginetype):   \n",
    "        self.__windows=window                      \n",
    "        self.__seats=seat\n",
    "        self.__enginetypes=enginetype"
   ]
  },
  {
   "cell_type": "code",
   "execution_count": 48,
   "id": "27e38489",
   "metadata": {},
   "outputs": [
    {
     "data": {
      "text/plain": [
       "['_EicherPrivate__enginetypes',\n",
       " '_EicherPrivate__seats',\n",
       " '_EicherPrivate__windows',\n",
       " '__class__',\n",
       " '__delattr__',\n",
       " '__dict__',\n",
       " '__dir__',\n",
       " '__doc__',\n",
       " '__eq__',\n",
       " '__format__',\n",
       " '__ge__',\n",
       " '__getattribute__',\n",
       " '__gt__',\n",
       " '__hash__',\n",
       " '__init__',\n",
       " '__init_subclass__',\n",
       " '__le__',\n",
       " '__lt__',\n",
       " '__module__',\n",
       " '__ne__',\n",
       " '__new__',\n",
       " '__reduce__',\n",
       " '__reduce_ex__',\n",
       " '__repr__',\n",
       " '__setattr__',\n",
       " '__sizeof__',\n",
       " '__str__',\n",
       " '__subclasshook__',\n",
       " '__weakref__']"
      ]
     },
     "execution_count": 48,
     "metadata": {},
     "output_type": "execute_result"
    }
   ],
   "source": [
    "dir(privatetruck)"
   ]
  },
  {
   "cell_type": "code",
   "execution_count": 42,
   "id": "cdbd0d5c",
   "metadata": {},
   "outputs": [],
   "source": [
    "privatetruck=EicherPrivate(4,4,'diesel')"
   ]
  },
  {
   "cell_type": "code",
   "execution_count": 45,
   "id": "13fce6d2",
   "metadata": {},
   "outputs": [
    {
     "data": {
      "text/plain": [
       "'diesel'"
      ]
     },
     "execution_count": 45,
     "metadata": {},
     "output_type": "execute_result"
    }
   ],
   "source": [
    "privatetruck._EicherPrivate__enginetypes"
   ]
  },
  {
   "cell_type": "code",
   "execution_count": 46,
   "id": "de3f9162",
   "metadata": {},
   "outputs": [],
   "source": [
    "privatetruck._EicherPrivate__enginetypes='petrol'"
   ]
  },
  {
   "cell_type": "code",
   "execution_count": 47,
   "id": "436702d3",
   "metadata": {},
   "outputs": [
    {
     "data": {
      "text/plain": [
       "'petrol'"
      ]
     },
     "execution_count": 47,
     "metadata": {},
     "output_type": "execute_result"
    }
   ],
   "source": [
    "privatetruck._EicherPrivate__enginetypes"
   ]
  },
  {
   "cell_type": "markdown",
   "id": "f99777a8",
   "metadata": {},
   "source": [
    "# MagicMethods in Python\n",
    "\n",
    "It is called magic methods as it loads the data by masking all the background work "
   ]
  },
  {
   "cell_type": "code",
   "execution_count": 30,
   "id": "623381f0",
   "metadata": {},
   "outputs": [],
   "source": [
    "class ExampleOfMeethod:\n",
    "    #def __new__(self,window,seat,enginetype):                      This gets executed before all the method  \n",
    "      #  print(\"The method is executed First before __init__()\")\n",
    "    def __init__(self,window,seat,enginetype):   \n",
    "        self.windows=window                      \n",
    "        self.seats=seat\n",
    "        self.enginetypes=enginetype\n",
    "    def __sizeof__(self):                          #-- it gives the overidded message of object size \n",
    "        return \"the size of object is displayed\"\n",
    "    def __str__(self):                            #--- it is the method responsible for print stmt\n",
    "        return 'the object is initialized'"
   ]
  },
  {
   "cell_type": "code",
   "execution_count": 31,
   "id": "ae0cf6bf",
   "metadata": {},
   "outputs": [],
   "source": [
    "exmethod=ExampleOfMeethod(4,4,'diesel')"
   ]
  },
  {
   "cell_type": "code",
   "execution_count": 32,
   "id": "dbf89eb7",
   "metadata": {},
   "outputs": [
    {
     "name": "stdout",
     "output_type": "stream",
     "text": [
      "the object is initialized\n"
     ]
    }
   ],
   "source": [
    "print(exmethod)"
   ]
  },
  {
   "cell_type": "code",
   "execution_count": 33,
   "id": "fff02490",
   "metadata": {},
   "outputs": [
    {
     "data": {
      "text/plain": [
       "'the size of object is displayed'"
      ]
     },
     "execution_count": 33,
     "metadata": {},
     "output_type": "execute_result"
    }
   ],
   "source": [
    "exmethod.__sizeof__()"
   ]
  },
  {
   "cell_type": "code",
   "execution_count": 34,
   "id": "9acdecb4",
   "metadata": {},
   "outputs": [
    {
     "data": {
      "text/plain": [
       "4"
      ]
     },
     "execution_count": 34,
     "metadata": {},
     "output_type": "execute_result"
    }
   ],
   "source": [
    "exmethod.windows"
   ]
  },
  {
   "cell_type": "code",
   "execution_count": 11,
   "id": "10706cad",
   "metadata": {},
   "outputs": [
    {
     "data": {
      "text/plain": [
       "['__bool__',\n",
       " '__class__',\n",
       " '__delattr__',\n",
       " '__dir__',\n",
       " '__doc__',\n",
       " '__eq__',\n",
       " '__format__',\n",
       " '__ge__',\n",
       " '__getattribute__',\n",
       " '__gt__',\n",
       " '__hash__',\n",
       " '__init__',\n",
       " '__init_subclass__',\n",
       " '__le__',\n",
       " '__lt__',\n",
       " '__ne__',\n",
       " '__new__',\n",
       " '__reduce__',\n",
       " '__reduce_ex__',\n",
       " '__repr__',\n",
       " '__setattr__',\n",
       " '__sizeof__',\n",
       " '__str__',\n",
       " '__subclasshook__']"
      ]
     },
     "execution_count": 11,
     "metadata": {},
     "output_type": "execute_result"
    }
   ],
   "source": [
    "dir(exmethod)"
   ]
  },
  {
   "cell_type": "markdown",
   "id": "9fdf55be",
   "metadata": {},
   "source": [
    "# Assert Statement\n",
    "\n",
    "statement is used to check logical expression is True or False\n",
    " if True the execution proceedes\n",
    "    False the AssertionError is raised"
   ]
  },
  {
   "cell_type": "code",
   "execution_count": 36,
   "id": "0c6babb7",
   "metadata": {},
   "outputs": [
    {
     "name": "stdout",
     "output_type": "stream",
     "text": [
      "enter even no23\n",
      "please enter even no\n"
     ]
    }
   ],
   "source": [
    "try:\n",
    "    num=int(input('enter even no'))\n",
    "    assert num%2==0                  # we use assert keyword to check\n",
    "    print('even no')\n",
    "except AssertionError:              #it is also a kind of exception handling\n",
    "    print('please enter even no')"
   ]
  },
  {
   "cell_type": "markdown",
   "id": "d19e84a6",
   "metadata": {},
   "source": [
    "# Iterators Vs Generators"
   ]
  },
  {
   "cell_type": "code",
   "execution_count": 45,
   "id": "d6d56df4",
   "metadata": {},
   "outputs": [
    {
     "name": "stdout",
     "output_type": "stream",
     "text": [
      "1\n",
      "2\n",
      "3\n",
      "4\n",
      "5\n"
     ]
    }
   ],
   "source": [
    "#Iterators\n",
    "\n",
    "lst=[1,2,3,4,5]\n",
    "for i in lst:\n",
    "    print(i)"
   ]
  },
  {
   "cell_type": "code",
   "execution_count": 47,
   "id": "8b20d3e6",
   "metadata": {},
   "outputs": [],
   "source": [
    "#using iter keyword\n",
    "iterable=iter(lst)"
   ]
  },
  {
   "cell_type": "code",
   "execution_count": null,
   "id": "87c5cc03",
   "metadata": {},
   "outputs": [],
   "source": [
    "for i in iterable:\n",
    "    print(i)"
   ]
  },
  {
   "cell_type": "code",
   "execution_count": 54,
   "id": "f6c99000",
   "metadata": {},
   "outputs": [
    {
     "name": "stdout",
     "output_type": "stream",
     "text": [
      "iterator is empty\n"
     ]
    }
   ],
   "source": [
    "try:\n",
    "    print(next(iterable))\n",
    "except StopIteration:\n",
    "    print('iterator is empty')"
   ]
  },
  {
   "cell_type": "code",
   "execution_count": 72,
   "id": "d1177711",
   "metadata": {},
   "outputs": [],
   "source": [
    "#GEnerator\n",
    "def square(n):\n",
    "    for i in range (n):\n",
    "        yield i**2     #it is a kind of generator but make the whole function as iterator"
   ]
  },
  {
   "cell_type": "code",
   "execution_count": 74,
   "id": "9aeed0c8",
   "metadata": {},
   "outputs": [
    {
     "data": {
      "text/plain": [
       "<generator object square at 0x00000244D83F5E40>"
      ]
     },
     "execution_count": 74,
     "metadata": {},
     "output_type": "execute_result"
    }
   ],
   "source": [
    "a=square(7)\n",
    "a"
   ]
  },
  {
   "cell_type": "code",
   "execution_count": 82,
   "id": "95577737",
   "metadata": {},
   "outputs": [
    {
     "ename": "StopIteration",
     "evalue": "",
     "output_type": "error",
     "traceback": [
      "\u001b[1;31m---------------------------------------------------------------------------\u001b[0m",
      "\u001b[1;31mStopIteration\u001b[0m                             Traceback (most recent call last)",
      "\u001b[1;32m~\\AppData\\Local\\Temp\\ipykernel_22864\\1242322984.py\u001b[0m in \u001b[0;36m<module>\u001b[1;34m\u001b[0m\n\u001b[1;32m----> 1\u001b[1;33m \u001b[0mnext\u001b[0m\u001b[1;33m(\u001b[0m\u001b[0ma\u001b[0m\u001b[1;33m)\u001b[0m\u001b[1;33m\u001b[0m\u001b[1;33m\u001b[0m\u001b[0m\n\u001b[0m",
      "\u001b[1;31mStopIteration\u001b[0m: "
     ]
    }
   ],
   "source": [
    "next(a)"
   ]
  },
  {
   "cell_type": "code",
   "execution_count": 73,
   "id": "d66db3b4",
   "metadata": {},
   "outputs": [
    {
     "name": "stdout",
     "output_type": "stream",
     "text": [
      "0\n",
      "1\n",
      "4\n",
      "9\n",
      "16\n",
      "25\n",
      "36\n"
     ]
    }
   ],
   "source": [
    "for i in square(7):\n",
    "    print(i)"
   ]
  },
  {
   "cell_type": "markdown",
   "id": "8b6a369d",
   "metadata": {},
   "source": [
    "To create an iterator we use iter fn\n",
    "To create  a generator we use fn along with yield keyword\n",
    "\n",
    "Yield saves the local variable value and can return the value\n",
    "\n",
    "Generator in python write fast and compact pgm\n",
    "\n",
    "Iterator is more memory efficient\n"
   ]
  },
  {
   "cell_type": "code",
   "execution_count": 83,
   "id": "5bee4fd7",
   "metadata": {},
   "outputs": [],
   "source": [
    "import types,collections "
   ]
  },
  {
   "cell_type": "code",
   "execution_count": 87,
   "id": "497769ad",
   "metadata": {},
   "outputs": [
    {
     "name": "stderr",
     "output_type": "stream",
     "text": [
      "C:\\Users\\alokh\\AppData\\Local\\Temp\\ipykernel_22864\\42433931.py:1: DeprecationWarning: Using or importing the ABCs from 'collections' instead of from 'collections.abc' is deprecated since Python 3.3, and in 3.10 it will stop working\n",
      "  issubclass(types.GeneratorType,collections.Iterator)\n"
     ]
    },
    {
     "data": {
      "text/plain": [
       "True"
      ]
     },
     "execution_count": 87,
     "metadata": {},
     "output_type": "execute_result"
    }
   ],
   "source": [
    "issubclass(types.GeneratorType,collections.Iterator)"
   ]
  },
  {
   "cell_type": "markdown",
   "id": "32baa179",
   "metadata": {},
   "source": [
    "# Decorators in Python"
   ]
  },
  {
   "cell_type": "code",
   "execution_count": null,
   "id": "4cf8cb87",
   "metadata": {},
   "outputs": [],
   "source": [
    "#Function copy\n",
    "#Closures\n",
    "#Decorators"
   ]
  },
  {
   "cell_type": "code",
   "execution_count": 98,
   "id": "f144f7fc",
   "metadata": {},
   "outputs": [],
   "source": [
    "# function copy\n",
    "def welcome():\n",
    "    return 'hello'"
   ]
  },
  {
   "cell_type": "code",
   "execution_count": 101,
   "id": "0d1fcf1a",
   "metadata": {},
   "outputs": [],
   "source": [
    "wel=welcome()\n",
    "del welcome     #deleting the welcome method by del keyword"
   ]
  },
  {
   "cell_type": "code",
   "execution_count": 102,
   "id": "deaab250",
   "metadata": {},
   "outputs": [
    {
     "data": {
      "text/plain": [
       "'hello'"
      ]
     },
     "execution_count": 102,
     "metadata": {},
     "output_type": "execute_result"
    }
   ],
   "source": [
    "wel   # even after deleating the function the wel has the memory location of the method so displays the result"
   ]
  },
  {
   "cell_type": "code",
   "execution_count": 105,
   "id": "92f4973f",
   "metadata": {},
   "outputs": [],
   "source": [
    "#Closures\n",
    "# creating a function inside a function is closures child can access parent varibles and methods\n",
    "def method_main():\n",
    "    msg='namaste'\n",
    "    def sub_method_main():\n",
    "        print('Hello welcome')\n",
    "        print(msg)\n",
    "        print('please come back soon')\n",
    "    return sub_method_main()"
   ]
  },
  {
   "cell_type": "code",
   "execution_count": 106,
   "id": "34753187",
   "metadata": {},
   "outputs": [
    {
     "name": "stdout",
     "output_type": "stream",
     "text": [
      "Hello welcome\n",
      "namaste\n",
      "please come back soon\n"
     ]
    }
   ],
   "source": [
    "method_main() # here just caslling the meg variable of parent func by child func"
   ]
  },
  {
   "cell_type": "code",
   "execution_count": 120,
   "id": "01dd5abe",
   "metadata": {},
   "outputs": [],
   "source": [
    "# This is partial Decorators in closure as it gives inbuilt functiona as argument when you call it\n",
    "\n",
    "def method_main(func):              # this takes the function given as agrument\n",
    "    def sub_method_main():\n",
    "        print('Hello welcome')\n",
    "        print(func([1,2,3,4,5,6,7,8,9]))    #just the data should be given to this not the function to perform as the fnc to perform is alrealy given as argument\n",
    "        print('please come back soon')\n",
    "    return sub_method_main()"
   ]
  },
  {
   "cell_type": "code",
   "execution_count": 121,
   "id": "8b41d1f3",
   "metadata": {},
   "outputs": [
    {
     "name": "stdout",
     "output_type": "stream",
     "text": [
      "Hello welcome\n",
      "9\n",
      "please come back soon\n"
     ]
    }
   ],
   "source": [
    "method_main(len) # here is the only place you give the function to perform as argument to the main method"
   ]
  },
  {
   "cell_type": "code",
   "execution_count": 135,
   "id": "ce47873b",
   "metadata": {},
   "outputs": [],
   "source": [
    "# Decorators\n",
    "\n",
    "def method_main(func):              \n",
    "    def sub_method_main():\n",
    "        print('Hello welcome')\n",
    "        func()                            # displayes the function in the custom function method\n",
    "        print('please come back soon')\n",
    "    return sub_method_main()"
   ]
  },
  {
   "cell_type": "code",
   "execution_count": 136,
   "id": "40ed07ea",
   "metadata": {},
   "outputs": [],
   "source": [
    "def custom_fn_calling_method_main():\n",
    "    print('make the database connection to access the data')"
   ]
  },
  {
   "cell_type": "code",
   "execution_count": 137,
   "id": "dca09e01",
   "metadata": {},
   "outputs": [
    {
     "name": "stdout",
     "output_type": "stream",
     "text": [
      "Hello welcome\n",
      "make the database connection to access the data\n",
      "please come back soon\n"
     ]
    }
   ],
   "source": [
    "method_main(custom_fn_calling_method_main) # calling the main_method fn by passinf custom fn as the attribute"
   ]
  },
  {
   "cell_type": "markdown",
   "id": "c99821ed",
   "metadata": {},
   "source": [
    "# Is keyword Vs =="
   ]
  },
  {
   "cell_type": "code",
   "execution_count": 139,
   "id": "87a0d771",
   "metadata": {},
   "outputs": [],
   "source": [
    "lst1=['loki','thor','hulk']\n",
    "lst2=['loki','thor','hulk']"
   ]
  },
  {
   "cell_type": "code",
   "execution_count": 140,
   "id": "cc1bfbaf",
   "metadata": {},
   "outputs": [
    {
     "data": {
      "text/plain": [
       "True"
      ]
     },
     "execution_count": 140,
     "metadata": {},
     "output_type": "execute_result"
    }
   ],
   "source": [
    "lst1==lst2"
   ]
  },
  {
   "cell_type": "code",
   "execution_count": 141,
   "id": "921a5655",
   "metadata": {},
   "outputs": [
    {
     "data": {
      "text/plain": [
       "True"
      ]
     },
     "execution_count": 141,
     "metadata": {},
     "output_type": "execute_result"
    }
   ],
   "source": [
    "lst2==lst1"
   ]
  },
  {
   "cell_type": "code",
   "execution_count": 142,
   "id": "da03e9ab",
   "metadata": {},
   "outputs": [
    {
     "data": {
      "text/plain": [
       "False"
      ]
     },
     "execution_count": 142,
     "metadata": {},
     "output_type": "execute_result"
    }
   ],
   "source": [
    "lst1 is lst2  # is keyword compartes the memory allocation value not the inner data inside the list\n"
   ]
  },
  {
   "cell_type": "code",
   "execution_count": 148,
   "id": "d2e4c480",
   "metadata": {},
   "outputs": [],
   "source": [
    "lst1=['loki','thor','hulk']\n",
    "lst2=['loki','thor','hulk1']\n",
    "lst1=lst2"
   ]
  },
  {
   "cell_type": "code",
   "execution_count": 149,
   "id": "7e0a4fd5",
   "metadata": {},
   "outputs": [
    {
     "data": {
      "text/plain": [
       "True"
      ]
     },
     "execution_count": 149,
     "metadata": {},
     "output_type": "execute_result"
    }
   ],
   "source": [
    "lst1 is lst2      # this only compares the reference vaule the data is stored not the data inside it"
   ]
  },
  {
   "cell_type": "code",
   "execution_count": 150,
   "id": "ec4b17db",
   "metadata": {},
   "outputs": [
    {
     "data": {
      "text/plain": [
       "['loki', 'thor', 'hulk1']"
      ]
     },
     "execution_count": 150,
     "metadata": {},
     "output_type": "execute_result"
    }
   ],
   "source": [
    "lst1"
   ]
  },
  {
   "cell_type": "code",
   "execution_count": 151,
   "id": "52380c81",
   "metadata": {},
   "outputs": [
    {
     "data": {
      "text/plain": [
       "['loki', 'thor', 'hulk1']"
      ]
     },
     "execution_count": 151,
     "metadata": {},
     "output_type": "execute_result"
    }
   ],
   "source": [
    "lst2"
   ]
  },
  {
   "cell_type": "code",
   "execution_count": 145,
   "id": "00ed8be0",
   "metadata": {},
   "outputs": [],
   "source": [
    "# Mutablity\n",
    "\n",
    "lst2[0]='iron Man'      #This is called mutability if we change one value in one list it is reflected in the other list also\n",
    "                    # this is coz the location of lst1 and lst2 is same and it is sharing the memory location\n",
    "                    # to overcome this we use deep copy concept"
   ]
  },
  {
   "cell_type": "code",
   "execution_count": 146,
   "id": "92021b83",
   "metadata": {},
   "outputs": [
    {
     "data": {
      "text/plain": [
       "['iron Man', 'thor', 'hulk']"
      ]
     },
     "execution_count": 146,
     "metadata": {},
     "output_type": "execute_result"
    }
   ],
   "source": [
    "lst2"
   ]
  },
  {
   "cell_type": "code",
   "execution_count": 147,
   "id": "9809f0d6",
   "metadata": {},
   "outputs": [
    {
     "data": {
      "text/plain": [
       "['iron Man', 'thor', 'hulk']"
      ]
     },
     "execution_count": 147,
     "metadata": {},
     "output_type": "execute_result"
    }
   ],
   "source": [
    "lst1"
   ]
  },
  {
   "cell_type": "markdown",
   "id": "cfd281b8",
   "metadata": {},
   "source": [
    "## Types of copy "
   ]
  },
  {
   "cell_type": "code",
   "execution_count": null,
   "id": "21bc4bf3",
   "metadata": {},
   "outputs": [],
   "source": [
    "# = operator"
   ]
  },
  {
   "cell_type": "code",
   "execution_count": 2,
   "id": "4ea33bc2",
   "metadata": {},
   "outputs": [
    {
     "data": {
      "text/plain": [
       "([100, 2, 3, 4], [100, 2, 3, 4])"
      ]
     },
     "execution_count": 2,
     "metadata": {},
     "output_type": "execute_result"
    }
   ],
   "source": [
    "lst1=[1,2,3,4]\n",
    "lst2=lst1\n",
    "lst2[0]=100\n",
    "lst1,lst2      #output of both are same as the are refering to same reference memory location\n",
    "#lst2=[5,6,7,8,]"
   ]
  },
  {
   "cell_type": "code",
   "execution_count": 19,
   "id": "090a1183",
   "metadata": {},
   "outputs": [
    {
     "data": {
      "text/plain": [
       "False"
      ]
     },
     "execution_count": 19,
     "metadata": {},
     "output_type": "execute_result"
    }
   ],
   "source": [
    "# Shallow comp\n",
    "lst1=[1,2,3,4]\n",
    "lst2=lst1.copy()\n",
    "lst2[1]= 1000\n",
    "lst1,lst2\n",
    "lst1 is lst2"
   ]
  },
  {
   "cell_type": "code",
   "execution_count": 18,
   "id": "7bec13da",
   "metadata": {},
   "outputs": [
    {
     "data": {
      "text/plain": [
       "False"
      ]
     },
     "execution_count": 18,
     "metadata": {},
     "output_type": "execute_result"
    }
   ],
   "source": [
    "lst1=[[1,2,3,4],[5,6,7,8]]\n",
    "lst2=lst1.copy()\n",
    "lst2[1][0]= 1000\n",
    "lst1,lst2                  # even by using .copy() it is getting mutated\n",
    "lst1 is lst2"
   ]
  },
  {
   "cell_type": "code",
   "execution_count": 28,
   "id": "68ea22be",
   "metadata": {},
   "outputs": [
    {
     "data": {
      "text/plain": [
       "([[1, 2, 3, 4], [1000, 6, 7, 8]], [[1, 2, 3, 4], [1000, 6, 7, 8]])"
      ]
     },
     "execution_count": 28,
     "metadata": {},
     "output_type": "execute_result"
    }
   ],
   "source": [
    "lst1=[[1,2,3,4],[5,6,7,8]]\n",
    "lst2=lst1.copy()\n",
    "lst2[1][0]= 1000\n",
    "lst1,lst2   \n",
    "#lst1 is lst2"
   ]
  },
  {
   "cell_type": "code",
   "execution_count": 29,
   "id": "f83e74c6",
   "metadata": {},
   "outputs": [
    {
     "data": {
      "text/plain": [
       "([[1, 2, 3, 4], [1000, 6, 7, 8], [1, 2, 3, 4]],\n",
       " [[1, 2, 3, 4], [1000, 6, 7, 8]])"
      ]
     },
     "execution_count": 29,
     "metadata": {},
     "output_type": "execute_result"
    }
   ],
   "source": [
    "lst1.append([1,2,3,4])\n",
    "lst1,lst2\n",
    "# after appending we lst2 and lst1 has difference in values it is not copied\n"
   ]
  },
  {
   "cell_type": "code",
   "execution_count": 31,
   "id": "bb7befdc",
   "metadata": {},
   "outputs": [
    {
     "data": {
      "text/plain": [
       "([[1, 2, 3, 4], [1000, 6, 300, 8], [1, 2, 3, 4]],\n",
       " [[1, 2, 3, 4], [1000, 6, 300, 8]])"
      ]
     },
     "execution_count": 31,
     "metadata": {},
     "output_type": "execute_result"
    }
   ],
   "source": [
    "lst2[1][2]=300\n",
    "lst1,lst2         # but still we can change the values inside 1 and 2 for the previously saved list values of collections"
   ]
  },
  {
   "cell_type": "code",
   "execution_count": 35,
   "id": "1581ff67",
   "metadata": {},
   "outputs": [],
   "source": [
    "# deepcopy()\n",
    "import copy"
   ]
  },
  {
   "cell_type": "code",
   "execution_count": 48,
   "id": "82ed6849",
   "metadata": {},
   "outputs": [
    {
     "data": {
      "text/plain": [
       "([10, 2, 3, 4], [1, 2, 3, 4])"
      ]
     },
     "execution_count": 48,
     "metadata": {},
     "output_type": "execute_result"
    }
   ],
   "source": [
    "lst1=[1,2,3,4]\n",
    "lst2=copy.deepcopy(lst1)  # the list to be copied should be given as argument for the deepcopy()\n",
    "lst2[0]=10\n",
    "lst2,lst1"
   ]
  },
  {
   "cell_type": "code",
   "execution_count": 54,
   "id": "1654fe29",
   "metadata": {},
   "outputs": [
    {
     "name": "stdout",
     "output_type": "stream",
     "text": [
      "[[1, 2, 3], [4, 5, 6], [7, 10, 9]]\n"
     ]
    },
    {
     "data": {
      "text/plain": [
       "[[1, 2, 3], [4, 5, 6], [7, 8, 9]]"
      ]
     },
     "execution_count": 54,
     "metadata": {},
     "output_type": "execute_result"
    }
   ],
   "source": [
    "lst1=[[1,2,3],[4,5,6],[7,8,9]]\n",
    "lst2=copy.deepcopy(lst1)  # the list to be copied should be given as argument for the deepcopy()\n",
    "lst2[2][1]=10\n",
    "print(lst2)\n",
    "lst1           # the output or changes is not mutable in both the list in deep copy"
   ]
  },
  {
   "cell_type": "markdown",
   "id": "5a844a5f",
   "metadata": {},
   "source": [
    "# Modin to make execution faster\n",
    "!pip install modin[ray] or !pip install modin[dask]\n",
    "\n",
    "We use import statement \"import modin.pandas as pd\" to use the modin library\n",
    "\n",
    "%%time we use it to calculate time for execution\n",
    "\n",
    "Rest all implements are same as pandas"
   ]
  },
  {
   "cell_type": "markdown",
   "id": "78ba2cfc",
   "metadata": {},
   "source": [
    "# Class variables and Class methods"
   ]
  },
  {
   "cell_type": "code",
   "execution_count": 144,
   "id": "44fe4883",
   "metadata": {},
   "outputs": [],
   "source": [
    "class Car:\n",
    "    baseprice=10000     #------ calss variable \n",
    "    def __init__(self,windows,seats,power):\n",
    "        self.windows=windows\n",
    "        self.seats=seats\n",
    "        self.power=power\n",
    "    def base_price(self):\n",
    "        print('the baseprice is {}'.format(self.baseprice))\n",
    "    @classmethod    #--------- decorator \n",
    "    def yearly_inflation(cls,inflation):        # this is a class method so we have to use \"cls\" \n",
    "        cls.baseprice=cls.baseprice+cls.baseprice*inflation     #--- we use cls.baseprice to access the calss variable"
   ]
  },
  {
   "cell_type": "code",
   "execution_count": 145,
   "id": "ac8f35d2",
   "metadata": {},
   "outputs": [],
   "source": [
    "car=Car(4,4,3000)"
   ]
  },
  {
   "cell_type": "code",
   "execution_count": 146,
   "id": "2c781369",
   "metadata": {},
   "outputs": [
    {
     "name": "stdout",
     "output_type": "stream",
     "text": [
      "the baseprice is 10000\n"
     ]
    }
   ],
   "source": [
    "car.base_price()"
   ]
  },
  {
   "cell_type": "code",
   "execution_count": 147,
   "id": "54756dc0",
   "metadata": {},
   "outputs": [],
   "source": [
    "Car.yearly_inflation(0.10)   # we can call this method by instance of object also i.e(car.yearly_inflation(argument))"
   ]
  },
  {
   "cell_type": "code",
   "execution_count": 148,
   "id": "89061ec6",
   "metadata": {},
   "outputs": [
    {
     "data": {
      "text/plain": [
       "11000.0"
      ]
     },
     "execution_count": 148,
     "metadata": {},
     "output_type": "execute_result"
    }
   ],
   "source": [
    "car.baseprice         # the class variable is changed by the class method yearly_inflation permanently "
   ]
  },
  {
   "cell_type": "code",
   "execution_count": 149,
   "id": "cb153f12",
   "metadata": {},
   "outputs": [],
   "source": [
    "Car.yearly_inflation(0.10)   # everytime you call this the operation happens on the updated value "
   ]
  },
  {
   "cell_type": "code",
   "execution_count": 150,
   "id": "dd25c26f",
   "metadata": {},
   "outputs": [
    {
     "data": {
      "text/plain": [
       "12100.0"
      ]
     },
     "execution_count": 150,
     "metadata": {},
     "output_type": "execute_result"
    }
   ],
   "source": [
    "car.baseprice"
   ]
  },
  {
   "cell_type": "markdown",
   "id": "dab70257",
   "metadata": {},
   "source": [
    "# Static Methods\n",
    "\n",
    "We write \"@staticmethod\" to  create this method\n",
    "\n",
    "When we create static method we dont have to pas any instance parameter(self) or class parameter(cls)\n",
    "\n",
    "We can call this with help of class\n",
    "\n",
    "It is faster to work, we cannot make copies \n",
    "\n",
    "It is the first method when the class is created when class is called"
   ]
  },
  {
   "cell_type": "code",
   "execution_count": 7,
   "id": "e8f489bb",
   "metadata": {},
   "outputs": [
    {
     "data": {
      "text/plain": [
       "datetime.datetime(2023, 3, 30, 11, 12, 32, 228498)"
      ]
     },
     "execution_count": 7,
     "metadata": {},
     "output_type": "execute_result"
    }
   ],
   "source": [
    "import datetime\n",
    "now=datetime.datetime.now()\n",
    "now\n",
    "#(year,month,date,hour,minutes,seconds,milli seconds)"
   ]
  },
  {
   "cell_type": "code",
   "execution_count": 15,
   "id": "f1c3ba2a",
   "metadata": {},
   "outputs": [
    {
     "name": "stdout",
     "output_type": "stream",
     "text": [
      "enter the year2023\n"
     ]
    }
   ],
   "source": [
    "year=input('enter the year')"
   ]
  },
  {
   "cell_type": "code",
   "execution_count": 56,
   "id": "a714597a",
   "metadata": {},
   "outputs": [],
   "source": [
    "class Car:\n",
    "    baseprice=10000\n",
    "    #year=input('enter the year')\n",
    "    def __init__(self,windows,seats,power):\n",
    "        self.windows=windows\n",
    "        self.seats=seats\n",
    "        self.power=power\n",
    "    def base_price(self):\n",
    "        print('the baseprice is {}'.format(self.baseprice))\n",
    "    @classmethod\n",
    "    def yearly_inflation(cls,inflation):\n",
    "        cls.baseprice=cls.baseprice+cls.baseprice*inflation\n",
    "    @staticmethod\n",
    "    def check_year():\n",
    "        if now.year==2023:\n",
    "            return True\n",
    "        else:\n",
    "            return False"
   ]
  },
  {
   "cell_type": "code",
   "execution_count": 57,
   "id": "ab36da08",
   "metadata": {},
   "outputs": [],
   "source": [
    "car=Car(4,4,3000)"
   ]
  },
  {
   "cell_type": "code",
   "execution_count": 58,
   "id": "350a8a52",
   "metadata": {},
   "outputs": [
    {
     "data": {
      "text/plain": [
       "True"
      ]
     },
     "execution_count": 58,
     "metadata": {},
     "output_type": "execute_result"
    }
   ],
   "source": [
    "car.check_year()"
   ]
  },
  {
   "cell_type": "code",
   "execution_count": 59,
   "id": "6c817e95",
   "metadata": {},
   "outputs": [],
   "source": [
    "if(car.check_year()==True):\n",
    "    pass\n",
    "else:\n",
    "    Car.yearly_inflation(0.10)"
   ]
  },
  {
   "cell_type": "code",
   "execution_count": 60,
   "id": "4c264b3a",
   "metadata": {},
   "outputs": [
    {
     "data": {
      "text/plain": [
       "10000"
      ]
     },
     "execution_count": 60,
     "metadata": {},
     "output_type": "execute_result"
    }
   ],
   "source": [
    "Car.baseprice"
   ]
  },
  {
   "cell_type": "markdown",
   "id": "1e63ed66",
   "metadata": {},
   "source": [
    "# Multiple Inheritance"
   ]
  },
  {
   "cell_type": "code",
   "execution_count": 62,
   "id": "8db65302",
   "metadata": {},
   "outputs": [],
   "source": [
    "class A:\n",
    "    def method1(self):\n",
    "        print('A')"
   ]
  },
  {
   "cell_type": "code",
   "execution_count": 63,
   "id": "19a1ed39",
   "metadata": {},
   "outputs": [],
   "source": [
    "class B(A):\n",
    "    def method1(self):\n",
    "        print('B')"
   ]
  },
  {
   "cell_type": "code",
   "execution_count": 64,
   "id": "61431d1d",
   "metadata": {},
   "outputs": [],
   "source": [
    "class C(A):\n",
    "    def method1(self):\n",
    "        print('c')"
   ]
  },
  {
   "cell_type": "code",
   "execution_count": 72,
   "id": "d0a27f61",
   "metadata": {},
   "outputs": [],
   "source": [
    "class D(B,C):\n",
    "    def method1(self):\n",
    "        print('d')\n",
    "        A.method1(d)         #class_name.method(instance of child object)\n",
    "        B.method1(d)     #parent_class_name.parent_method_name(instance of child object)\n",
    "        C.method1(d)"
   ]
  },
  {
   "cell_type": "code",
   "execution_count": 73,
   "id": "0598c433",
   "metadata": {},
   "outputs": [],
   "source": [
    "d=D()"
   ]
  },
  {
   "cell_type": "code",
   "execution_count": 74,
   "id": "0f9d1d89",
   "metadata": {},
   "outputs": [
    {
     "name": "stdout",
     "output_type": "stream",
     "text": [
      "d\n",
      "A\n",
      "B\n",
      "c\n"
     ]
    }
   ],
   "source": [
    "d.method1()"
   ]
  },
  {
   "cell_type": "markdown",
   "id": "6f6b107d",
   "metadata": {},
   "source": [
    "# Eval() function"
   ]
  },
  {
   "cell_type": "code",
   "execution_count": null,
   "id": "5c8ca708",
   "metadata": {},
   "outputs": [],
   "source": [
    "# eval(\"expression\",globals,locals)  # both globals and locals should be Key:Value pair"
   ]
  },
  {
   "cell_type": "code",
   "execution_count": 83,
   "id": "36377220",
   "metadata": {},
   "outputs": [
    {
     "data": {
      "text/plain": [
       "25"
      ]
     },
     "execution_count": 83,
     "metadata": {},
     "output_type": "execute_result"
    }
   ],
   "source": [
    "var=compile(\"5*5\",'<string>',\"eval\")   # using compile function we give expression, type,function eval to execute\n",
    "eval(var)"
   ]
  },
  {
   "cell_type": "code",
   "execution_count": 75,
   "id": "b86f7104",
   "metadata": {},
   "outputs": [
    {
     "data": {
      "text/plain": [
       "25"
      ]
     },
     "execution_count": 75,
     "metadata": {},
     "output_type": "execute_result"
    }
   ],
   "source": [
    "eval(\"5*5\")"
   ]
  },
  {
   "cell_type": "code",
   "execution_count": 77,
   "id": "01258dc0",
   "metadata": {},
   "outputs": [
    {
     "data": {
      "text/plain": [
       "25"
      ]
     },
     "execution_count": 77,
     "metadata": {},
     "output_type": "execute_result"
    }
   ],
   "source": [
    "eval('x*y',{'x':5,\"y\":5})"
   ]
  },
  {
   "cell_type": "code",
   "execution_count": 78,
   "id": "6907d6c2",
   "metadata": {},
   "outputs": [
    {
     "data": {
      "text/plain": [
       "25"
      ]
     },
     "execution_count": 78,
     "metadata": {},
     "output_type": "execute_result"
    }
   ],
   "source": [
    "eval('x*y',{},{'x':5,\"y\":5})"
   ]
  },
  {
   "cell_type": "code",
   "execution_count": 90,
   "id": "ce7814b3",
   "metadata": {},
   "outputs": [
    {
     "data": {
      "text/plain": [
       "25"
      ]
     },
     "execution_count": 90,
     "metadata": {},
     "output_type": "execute_result"
    }
   ],
   "source": [
    "x=5 \n",
    "eval(\"x*y\",{'x':x,'y':5})   # can do in this was also"
   ]
  },
  {
   "cell_type": "code",
   "execution_count": 92,
   "id": "8bd60ad4",
   "metadata": {},
   "outputs": [
    {
     "ename": "NameError",
     "evalue": "name 'x' is not defined",
     "output_type": "error",
     "traceback": [
      "\u001b[1;31m---------------------------------------------------------------------------\u001b[0m",
      "\u001b[1;31mNameError\u001b[0m                                 Traceback (most recent call last)",
      "\u001b[1;32m~\\AppData\\Local\\Temp\\ipykernel_14268\\3675666691.py\u001b[0m in \u001b[0;36m<module>\u001b[1;34m\u001b[0m\n\u001b[0;32m      1\u001b[0m \u001b[0mx\u001b[0m\u001b[1;33m=\u001b[0m\u001b[1;36m5\u001b[0m\u001b[1;33m\u001b[0m\u001b[1;33m\u001b[0m\u001b[0m\n\u001b[0;32m      2\u001b[0m \u001b[0my\u001b[0m\u001b[1;33m=\u001b[0m\u001b[1;36m5\u001b[0m\u001b[1;33m\u001b[0m\u001b[1;33m\u001b[0m\u001b[0m\n\u001b[1;32m----> 3\u001b[1;33m \u001b[0meval\u001b[0m\u001b[1;33m(\u001b[0m\u001b[1;34m\"x*y\"\u001b[0m\u001b[1;33m,\u001b[0m\u001b[1;33m{\u001b[0m\u001b[1;33m}\u001b[0m\u001b[1;33m,\u001b[0m\u001b[1;33m{\u001b[0m\u001b[1;33m}\u001b[0m\u001b[1;33m)\u001b[0m\u001b[1;33m\u001b[0m\u001b[1;33m\u001b[0m\u001b[0m\n\u001b[0m",
      "\u001b[1;32m<string>\u001b[0m in \u001b[0;36m<module>\u001b[1;34m\u001b[0m\n",
      "\u001b[1;31mNameError\u001b[0m: name 'x' is not defined"
     ]
    }
   ],
   "source": [
    "x=5 \n",
    "y=5\n",
    "eval(\"x*y\",{},{}) #If given globals and locals it does not access the outside x and y values"
   ]
  },
  {
   "cell_type": "markdown",
   "id": "10392978",
   "metadata": {},
   "source": [
    "\n",
    "It is a vary bad practice to use eval() \n",
    "Insecure --- as it allows t execute dynamically"
   ]
  },
  {
   "cell_type": "markdown",
   "id": "ea1d9e73",
   "metadata": {},
   "source": [
    "# Asynchronous Execution\n",
    "\n",
    "It is used to executr the code using threads parallelly\n",
    "They implement same interfacedefined by abstract class Executer"
   ]
  },
  {
   "cell_type": "markdown",
   "id": "5e938040",
   "metadata": {},
   "source": [
    "# Zip function\n",
    "\n",
    "Used for paraallel iteration\n",
    "\n",
    "preprocessing datasetts and feature engineering\n",
    "\n",
    "it can iterate through any datastructures\n",
    "\n",
    "Data structure as a parameter for zip() function"
   ]
  },
  {
   "cell_type": "code",
   "execution_count": 11,
   "id": "e08f96a8",
   "metadata": {},
   "outputs": [],
   "source": [
    "lst1=['karish','alok','loki']\n",
    "lst2=['a','b','c']\n",
    "\n",
    "output=zip(lst1,lst2)"
   ]
  },
  {
   "cell_type": "code",
   "execution_count": 16,
   "id": "8d5470e1",
   "metadata": {},
   "outputs": [
    {
     "data": {
      "text/plain": [
       "[('karish', 'a', 1), ('alok', 'b', 2), ('loki', 'c', 3)]"
      ]
     },
     "execution_count": 16,
     "metadata": {},
     "output_type": "execute_result"
    }
   ],
   "source": [
    "list(output)"
   ]
  },
  {
   "cell_type": "code",
   "execution_count": 18,
   "id": "caf0811a",
   "metadata": {},
   "outputs": [],
   "source": [
    "lst1=['karish','alok','loki','hai']\n",
    "lst2=['a','b','c']\n",
    "lst3=[1,2,3,4]"
   ]
  },
  {
   "cell_type": "code",
   "execution_count": 19,
   "id": "be183c9c",
   "metadata": {},
   "outputs": [],
   "source": [
    "output=zip(lst1,lst2,lst3)   # if all the list has all the elements itll show the output "
   ]
  },
  {
   "cell_type": "code",
   "execution_count": 20,
   "id": "95433f1c",
   "metadata": {},
   "outputs": [
    {
     "data": {
      "text/plain": [
       "[('karish', 'a', 1), ('alok', 'b', 2), ('loki', 'c', 3)]"
      ]
     },
     "execution_count": 20,
     "metadata": {},
     "output_type": "execute_result"
    }
   ],
   "source": [
    "list(output)"
   ]
  },
  {
   "cell_type": "code",
   "execution_count": 21,
   "id": "6d133230",
   "metadata": {},
   "outputs": [
    {
     "name": "stdout",
     "output_type": "stream",
     "text": [
      "karish a 1\n",
      "alok b 2\n",
      "loki c 3\n"
     ]
    }
   ],
   "source": [
    "lst1=['karish','alok','loki','hai']\n",
    "lst2=['a','b','c']\n",
    "lst3=[1,2,3,4]\n",
    "\n",
    "output=zip(lst1,lst2,lst3)\n",
    "for i,j,k in output:\n",
    "    print (i,j,k)"
   ]
  },
  {
   "cell_type": "code",
   "execution_count": 35,
   "id": "59539424",
   "metadata": {},
   "outputs": [
    {
     "data": {
      "text/plain": [
       "(('name', 'karish'), ('name', 'Alok'))"
      ]
     },
     "execution_count": 35,
     "metadata": {},
     "output_type": "execute_result"
    }
   ],
   "source": [
    "dict1={\"name\":\"karish\",\"age\":20,\"lastname\":'loki'}\n",
    "dict2={'name':'Alok',\"age\":25,\"lastname\":'Chakravarthi'}\n",
    "dictionary=zip(dict1.items(),dict2.items())\n",
    "next(dictionary)\n"
   ]
  },
  {
   "cell_type": "code",
   "execution_count": 36,
   "id": "c2f1661e",
   "metadata": {},
   "outputs": [
    {
     "name": "stdout",
     "output_type": "stream",
     "text": [
      "age 20\n",
      "age 25\n",
      "lastname loki\n",
      "lastname Chakravarthi\n"
     ]
    }
   ],
   "source": [
    "for (i,j),(i2,j2) in dictionary:\n",
    "    print(i,j)\n",
    "    print(i2,j2)"
   ]
  },
  {
   "cell_type": "markdown",
   "id": "71d3391b",
   "metadata": {},
   "source": [
    "# Logging \n",
    "\n",
    "It is a type of creating the file for custome worning message"
   ]
  },
  {
   "cell_type": "code",
   "execution_count": 37,
   "id": "c3d632de",
   "metadata": {},
   "outputs": [],
   "source": [
    "import logging"
   ]
  },
  {
   "cell_type": "code",
   "execution_count": 38,
   "id": "b5468e33",
   "metadata": {},
   "outputs": [],
   "source": [
    "logging.basicConfig(filename='logscreated.txt',filemode='a',format='%(asctime)s %(levelname)s %(message)s',datefmt='%Y-%m-%d%H:%M:%S')"
   ]
  },
  {
   "cell_type": "code",
   "execution_count": 40,
   "id": "3f7fa5d4",
   "metadata": {},
   "outputs": [],
   "source": [
    "try:\n",
    "    i=i/0;\n",
    "except:\n",
    "    logging.error(\"cannot divide by 0 error \")\n",
    "\n",
    "\n",
    "for i in range (0,15):\n",
    "    if(i%2)==0:\n",
    "        logging.warning('Warning message')\n",
    "    elif(i%3)==0:\n",
    "        logging.critical('Critical message')\n",
    "    else:\n",
    "        logging.error('Error message')"
   ]
  },
  {
   "cell_type": "markdown",
   "id": "6412814c",
   "metadata": {},
   "source": [
    "# SHA (Secure Hash Algorithm)\n",
    "\n",
    "Avalanche effect-- slight change in data output is drastically changed\n",
    "\n",
    "each character consits of 4 bytes ---------- 32 bits each"
   ]
  },
  {
   "cell_type": "code",
   "execution_count": 41,
   "id": "5a066004",
   "metadata": {},
   "outputs": [],
   "source": [
    "import hashlib"
   ]
  },
  {
   "cell_type": "code",
   "execution_count": 42,
   "id": "d579b1e0",
   "metadata": {},
   "outputs": [
    {
     "data": {
      "text/plain": [
       "<sha256 _hashlib.HASH object @ 0x0000020838DC37F0>"
      ]
     },
     "execution_count": 42,
     "metadata": {},
     "output_type": "execute_result"
    }
   ],
   "source": [
    "str1=\"Adarsh\"\n",
    "hashedval=hashlib.sha256(str1.encode())\n",
    "hashedval"
   ]
  },
  {
   "cell_type": "code",
   "execution_count": 44,
   "id": "42bb5a67",
   "metadata": {},
   "outputs": [
    {
     "data": {
      "text/plain": [
       "'a1e20aef72a3a5668227e3ad59cf1993889c6655022108c6ebdfafe2ead682c2'"
      ]
     },
     "execution_count": 44,
     "metadata": {},
     "output_type": "execute_result"
    }
   ],
   "source": [
    "hashedval.hexdigest()   # gives the value of hashed set values "
   ]
  },
  {
   "cell_type": "code",
   "execution_count": 45,
   "id": "f51d67d5",
   "metadata": {},
   "outputs": [
    {
     "data": {
      "text/plain": [
       "'56151a6159b8e73d94446bd6aeb24439e35832964dcbc40fc389c3ec789c1bee90f21370df0ae8329003983e004b44638926e3226395931b471a688d050e1d15'"
      ]
     },
     "execution_count": 45,
     "metadata": {},
     "output_type": "execute_result"
    }
   ],
   "source": [
    "str1=\"Adarsh\"\n",
    "hashedval=hashlib.sha3_512(str1.encode())\n",
    "hashedval.hexdigest() "
   ]
  },
  {
   "cell_type": "markdown",
   "id": "76071fe7",
   "metadata": {},
   "source": [
    "# Numba Library\n",
    "\n",
    "It is used to convert python(interpretor language) to JIT(just-in-time compiler) as other language\n",
    "\n",
    "JIT(just-in-time compiler) as other language is used for converting the program to machine code\n",
    "\n",
    "Therefore: 1st execution takes time when compared to 2nd execution in the below pgm"
   ]
  },
  {
   "cell_type": "code",
   "execution_count": 46,
   "id": "945ee1ff",
   "metadata": {},
   "outputs": [
    {
     "name": "stdout",
     "output_type": "stream",
     "text": [
      "Defaulting to user installation because normal site-packages is not writeable\n",
      "Requirement already satisfied: numba in c:\\programdata\\anaconda3\\lib\\site-packages (0.55.1)\n",
      "Requirement already satisfied: llvmlite<0.39,>=0.38.0rc1 in c:\\programdata\\anaconda3\\lib\\site-packages (from numba) (0.38.0)\n",
      "Requirement already satisfied: numpy<1.22,>=1.18 in c:\\programdata\\anaconda3\\lib\\site-packages (from numba) (1.21.5)\n",
      "Requirement already satisfied: setuptools in c:\\programdata\\anaconda3\\lib\\site-packages (from numba) (63.4.1)\n"
     ]
    }
   ],
   "source": [
    "!pip install numba"
   ]
  },
  {
   "cell_type": "code",
   "execution_count": 2,
   "id": "bc6e84a0",
   "metadata": {},
   "outputs": [],
   "source": [
    "from numba import jit\n",
    "import numpy as np\n",
    "import time"
   ]
  },
  {
   "cell_type": "code",
   "execution_count": 13,
   "id": "84ba5e68",
   "metadata": {},
   "outputs": [],
   "source": [
    "x=np.arange(100).reshape(10,10)\n",
    "@jit(nopython=True)   # we use decorator to call numba to compile the code\n",
    "def go_fast(a):\n",
    "    trace=0.0\n",
    "    for i in range(a.shape[0]):\n",
    "        trace+=np.tanh(a[i,i])\n",
    "        return a+trace"
   ]
  },
  {
   "cell_type": "code",
   "execution_count": 14,
   "id": "efdcfaa5",
   "metadata": {},
   "outputs": [
    {
     "name": "stdout",
     "output_type": "stream",
     "text": [
      "completion =0.4360222816467285\n",
      "after completion =0.0\n"
     ]
    }
   ],
   "source": [
    "start=time.time()\n",
    "go_fast(x)\n",
    "end_time=time.time()\n",
    "print('completion =%s'%(end_time-start)) \n",
    "#=%s is used for string formatting(TypeError: not all arguments converted during string formatting)\n",
    "\n",
    "start=time.time()\n",
    "go_fast(x)\n",
    "end_time=time.time()\n",
    "print('after completion =%s'%(end_time-start))"
   ]
  }
 ],
 "metadata": {
  "kernelspec": {
   "display_name": "Python 3 (ipykernel)",
   "language": "python",
   "name": "python3"
  },
  "language_info": {
   "codemirror_mode": {
    "name": "ipython",
    "version": 3
   },
   "file_extension": ".py",
   "mimetype": "text/x-python",
   "name": "python",
   "nbconvert_exporter": "python",
   "pygments_lexer": "ipython3",
   "version": "3.9.13"
  }
 },
 "nbformat": 4,
 "nbformat_minor": 5
}
